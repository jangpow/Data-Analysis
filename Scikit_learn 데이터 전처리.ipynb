{
 "cells": [
  {
   "cell_type": "code",
   "execution_count": 1,
   "id": "f79462c5",
   "metadata": {},
   "outputs": [
    {
     "name": "stdout",
     "output_type": "stream",
     "text": [
      "인코딩 변환값: [0 1 3 4 0 4 1 2]\n",
      "인코딩 클래스: ['TV' '냉장고' '레고' '전자레인지' '컴퓨터']\n"
     ]
    }
   ],
   "source": [
    "# 레이블 인코딩\n",
    "from sklearn.preprocessing import LabelEncoder\n",
    "items = ['TV','냉장고','전자레인지','컴퓨터','TV','컴퓨터','냉장고','레고']\n",
    "\n",
    "encoder = LabelEncoder()\n",
    "encoder.fit(items) # LabelEncoder().fit(items)\n",
    "labels = encoder.transform(items)\n",
    "\n",
    "print('인코딩 변환값:',labels)\n",
    "print('인코딩 클래스:', encoder.classes_)"
   ]
  },
  {
   "cell_type": "code",
   "execution_count": 2,
   "id": "7f96c90a",
   "metadata": {},
   "outputs": [
    {
     "name": "stdout",
     "output_type": "stream",
     "text": [
      "디코딩 값: ['TV' '냉장고' '레고' '전자레인지' 'TV' '냉장고' '전자레인지' '전자레인지']\n"
     ]
    }
   ],
   "source": [
    "# 레이블 디코딩\n",
    "origins = encoder.inverse_transform([0,1,2,3,0,1,3,3])\n",
    "print('디코딩 값:', origins)"
   ]
  },
  {
   "cell_type": "code",
   "execution_count": 3,
   "id": "814bfa99",
   "metadata": {},
   "outputs": [
    {
     "name": "stdout",
     "output_type": "stream",
     "text": [
      "원 핫 인코딩 데이터\n",
      "[[1. 0. 0. 0. 0.]\n",
      " [0. 1. 0. 0. 0.]\n",
      " [0. 0. 0. 1. 0.]\n",
      " [0. 0. 0. 0. 1.]\n",
      " [1. 0. 0. 0. 0.]\n",
      " [0. 0. 0. 0. 1.]\n",
      " [0. 1. 0. 0. 0.]\n",
      " [0. 0. 1. 0. 0.]]\n",
      "원 핫 인코딩 데이터 차원\n",
      "(8, 5)\n"
     ]
    }
   ],
   "source": [
    "# One Hot Encoding \n",
    "from sklearn.preprocessing import OneHotEncoder\n",
    "import numpy as np\n",
    "\n",
    "labels=labels.reshape(-1,1)\n",
    "\n",
    "oh_encoder = OneHotEncoder()\n",
    "oh_encoder.fit(labels)\n",
    "oh_labels= oh_encoder.transform(labels)\n",
    "\n",
    "print('원 핫 인코딩 데이터')\n",
    "print(oh_labels.toarray())\n",
    "print('원 핫 인코딩 데이터 차원')\n",
    "print(oh_labels.shape)"
   ]
  },
  {
   "cell_type": "code",
   "execution_count": 4,
   "id": "f2e79ae0",
   "metadata": {},
   "outputs": [
    {
     "data": {
      "text/html": [
       "<div>\n",
       "<style scoped>\n",
       "    .dataframe tbody tr th:only-of-type {\n",
       "        vertical-align: middle;\n",
       "    }\n",
       "\n",
       "    .dataframe tbody tr th {\n",
       "        vertical-align: top;\n",
       "    }\n",
       "\n",
       "    .dataframe thead th {\n",
       "        text-align: right;\n",
       "    }\n",
       "</style>\n",
       "<table border=\"1\" class=\"dataframe\">\n",
       "  <thead>\n",
       "    <tr style=\"text-align: right;\">\n",
       "      <th></th>\n",
       "      <th>item_TV</th>\n",
       "      <th>item_냉장고</th>\n",
       "      <th>item_레고</th>\n",
       "      <th>item_전자레인지</th>\n",
       "      <th>item_컴퓨터</th>\n",
       "    </tr>\n",
       "  </thead>\n",
       "  <tbody>\n",
       "    <tr>\n",
       "      <th>0</th>\n",
       "      <td>1</td>\n",
       "      <td>0</td>\n",
       "      <td>0</td>\n",
       "      <td>0</td>\n",
       "      <td>0</td>\n",
       "    </tr>\n",
       "    <tr>\n",
       "      <th>1</th>\n",
       "      <td>0</td>\n",
       "      <td>1</td>\n",
       "      <td>0</td>\n",
       "      <td>0</td>\n",
       "      <td>0</td>\n",
       "    </tr>\n",
       "    <tr>\n",
       "      <th>2</th>\n",
       "      <td>0</td>\n",
       "      <td>0</td>\n",
       "      <td>0</td>\n",
       "      <td>1</td>\n",
       "      <td>0</td>\n",
       "    </tr>\n",
       "    <tr>\n",
       "      <th>3</th>\n",
       "      <td>0</td>\n",
       "      <td>0</td>\n",
       "      <td>0</td>\n",
       "      <td>0</td>\n",
       "      <td>1</td>\n",
       "    </tr>\n",
       "    <tr>\n",
       "      <th>4</th>\n",
       "      <td>1</td>\n",
       "      <td>0</td>\n",
       "      <td>0</td>\n",
       "      <td>0</td>\n",
       "      <td>0</td>\n",
       "    </tr>\n",
       "    <tr>\n",
       "      <th>5</th>\n",
       "      <td>0</td>\n",
       "      <td>0</td>\n",
       "      <td>0</td>\n",
       "      <td>0</td>\n",
       "      <td>1</td>\n",
       "    </tr>\n",
       "    <tr>\n",
       "      <th>6</th>\n",
       "      <td>0</td>\n",
       "      <td>1</td>\n",
       "      <td>0</td>\n",
       "      <td>0</td>\n",
       "      <td>0</td>\n",
       "    </tr>\n",
       "    <tr>\n",
       "      <th>7</th>\n",
       "      <td>0</td>\n",
       "      <td>0</td>\n",
       "      <td>1</td>\n",
       "      <td>0</td>\n",
       "      <td>0</td>\n",
       "    </tr>\n",
       "  </tbody>\n",
       "</table>\n",
       "</div>"
      ],
      "text/plain": [
       "   item_TV  item_냉장고  item_레고  item_전자레인지  item_컴퓨터\n",
       "0        1         0        0           0         0\n",
       "1        0         1        0           0         0\n",
       "2        0         0        0           1         0\n",
       "3        0         0        0           0         1\n",
       "4        1         0        0           0         0\n",
       "5        0         0        0           0         1\n",
       "6        0         1        0           0         0\n",
       "7        0         0        1           0         0"
      ]
     },
     "execution_count": 4,
     "metadata": {},
     "output_type": "execute_result"
    }
   ],
   "source": [
    "# 판다스의 원 핫 인코딩 / 명목형 데이터를 숫자형으로 변환 필요 없이 바로 2차원 데이터 인코딩 가능 함수\n",
    "# get_dummies 함수\n",
    "\n",
    "import pandas as pd\n",
    "item_df = pd.DataFrame({'item': items})\n",
    "pd.get_dummies(item_df)"
   ]
  },
  {
   "cell_type": "code",
   "execution_count": 7,
   "id": "587e05e2",
   "metadata": {},
   "outputs": [
    {
     "name": "stdout",
     "output_type": "stream",
     "text": [
      "붓꽃 데이터세트 타임: <class 'sklearn.utils.Bunch'>\n",
      "붓꽃 데이터세트 키: dict_keys(['data', 'target', 'frame', 'target_names', 'DESCR', 'feature_names', 'filename', 'data_module'])\n"
     ]
    }
   ],
   "source": [
    "# iris 데이터의 내재된 분포와 특징 / 타입 / 키 등을 확인\n",
    "iris = load_iris()\n",
    "print('붓꽃 데이터세트 타임:', type(iris))\n",
    "\n",
    "keys = iris.keys()\n",
    "print('붓꽃 데이터세트 키:' , keys)\n",
    "\n",
    "#values= iris.values()\n",
    "#print('붓꽃 데이터세트 값:' , values)"
   ]
  },
  {
   "cell_type": "code",
   "execution_count": 6,
   "id": "5891c7ee",
   "metadata": {},
   "outputs": [
    {
     "name": "stdout",
     "output_type": "stream",
     "text": [
      "     sepal length (cm)  sepal width (cm)  petal length (cm)  petal width (cm)\n",
      "0                  5.1               3.5                1.4               0.2\n",
      "1                  4.9               3.0                1.4               0.2\n",
      "2                  4.7               3.2                1.3               0.2\n",
      "3                  4.6               3.1                1.5               0.2\n",
      "4                  5.0               3.6                1.4               0.2\n",
      "..                 ...               ...                ...               ...\n",
      "145                6.7               3.0                5.2               2.3\n",
      "146                6.3               2.5                5.0               1.9\n",
      "147                6.5               3.0                5.2               2.0\n",
      "148                6.2               3.4                5.4               2.3\n",
      "149                5.9               3.0                5.1               1.8\n",
      "\n",
      "[150 rows x 4 columns]\n",
      "feature들의 평균 값:  sepal length (cm)    5.843333\n",
      "sepal width (cm)     3.057333\n",
      "petal length (cm)    3.758000\n",
      "petal width (cm)     1.199333\n",
      "dtype: float64\n",
      "feature들의 분산 값: sepal length (cm)    0.685694\n",
      "sepal width (cm)     0.189979\n",
      "petal length (cm)    3.116278\n",
      "petal width (cm)     0.581006\n",
      "dtype: float64\n"
     ]
    }
   ],
   "source": [
    "from sklearn.datasets import load_iris\n",
    "import pandas as pd\n",
    "\n",
    "iris=load_iris()\n",
    "iris_data = iris.data\n",
    "iris_df = pd.DataFrame(data=iris_data, columns=iris.feature_names)\n",
    "\n",
    "print(iris_df)\n",
    "\n",
    "print('feature들의 평균 값: ', iris_df.mean())\n",
    "print('feature들의 분산 값:', iris_df.var())"
   ]
  },
  {
   "cell_type": "code",
   "execution_count": 14,
   "id": "b1c6a5b6",
   "metadata": {},
   "outputs": [
    {
     "name": "stdout",
     "output_type": "stream",
     "text": [
      "     sepal length (cm)  sepal width (cm)  petal length (cm)  petal width (cm)\n",
      "0            -0.900681          1.019004          -1.340227         -1.315444\n",
      "1            -1.143017         -0.131979          -1.340227         -1.315444\n",
      "2            -1.385353          0.328414          -1.397064         -1.315444\n",
      "3            -1.506521          0.098217          -1.283389         -1.315444\n",
      "4            -1.021849          1.249201          -1.340227         -1.315444\n",
      "..                 ...               ...                ...               ...\n",
      "145           1.038005         -0.131979           0.819596          1.448832\n",
      "146           0.553333         -1.282963           0.705921          0.922303\n",
      "147           0.795669         -0.131979           0.819596          1.053935\n",
      "148           0.432165          0.788808           0.933271          1.448832\n",
      "149           0.068662         -0.131979           0.762758          0.790671\n",
      "\n",
      "[150 rows x 4 columns]\n",
      "feature들의 평균 값: sepal length (cm)   -1.690315e-15\n",
      "sepal width (cm)    -1.842970e-15\n",
      "petal length (cm)   -1.698641e-15\n",
      "petal width (cm)    -1.409243e-15\n",
      "dtype: float64\n",
      "feature들의 분산 값: sepal length (cm)    1.006711\n",
      "sepal width (cm)     1.006711\n",
      "petal length (cm)    1.006711\n",
      "petal width (cm)     1.006711\n",
      "dtype: float64\n"
     ]
    }
   ],
   "source": [
    "# 표준화 시켜주기 Scaling\n",
    "# 표준화를 시켜주면 데이터 값은 -1과 1 사이의 값을 가지게 된다.\n",
    "from sklearn.preprocessing import StandardScaler\n",
    "\n",
    "scaler = StandardScaler()\n",
    "scaler.fit(iris_df)\n",
    "iris_scaled = scaler.transform(iris_df)\n",
    "iris_df_scaled = pd.DataFrame(data=iris_scaled, columns=iris.feature_names)\n",
    "\n",
    "print(iris_df_scaled)\n",
    "print('feature들의 평균 값:', iris_df_scaled.mean())\n",
    "print('feature들의 분산 값:', iris_df_scaled.var())"
   ]
  },
  {
   "cell_type": "code",
   "execution_count": 16,
   "id": "8ddca491",
   "metadata": {},
   "outputs": [
    {
     "name": "stdout",
     "output_type": "stream",
     "text": [
      "feature들의 최소 값: sepal length (cm)    0.0\n",
      "sepal width (cm)     0.0\n",
      "petal length (cm)    0.0\n",
      "petal width (cm)     0.0\n",
      "dtype: float64\n",
      "feature들의 최대 값: sepal length (cm)    1.0\n",
      "sepal width (cm)     1.0\n",
      "petal length (cm)    1.0\n",
      "petal width (cm)     1.0\n",
      "dtype: float64\n"
     ]
    }
   ],
   "source": [
    "# 최대- 최소 정규화\n",
    "\n",
    "from sklearn.preprocessing import MinMaxScaler\n",
    "\n",
    "scaler=MinMaxScaler()\n",
    "scaler.fit(iris_df)\n",
    "iris_scaled = scaler.transform(iris_df)\n",
    "iris_df_scaled= pd.DataFrame(data=iris_scaled, columns=iris.feature_names)\n",
    "\n",
    "print('feature들의 최소 값:', iris_df_scaled.min())\n",
    "print('feature들의 최대 값:', iris_df_scaled.max())"
   ]
  },
  {
   "cell_type": "code",
   "execution_count": 25,
   "id": "157151e2",
   "metadata": {},
   "outputs": [
    {
     "name": "stdout",
     "output_type": "stream",
     "text": [
      "원본 train_array 데이터 [ 0  1  2  3  4  5  6  7  8  9 10]\n",
      "Scaled train array 데이터: [0.  0.1 0.2 0.3 0.4 0.5 0.6 0.7 0.8 0.9 1. ]\n",
      "원본 test_array 데이터 [ 0  1  2  3  4  5  6  7  8  9 10]\n",
      "Scaled test array 데이터: [0.  0.1 0.2 0.3 0.4 0.5 0.6 0.7 0.8 0.9 1. ]\n"
     ]
    }
   ],
   "source": [
    "# 스케일링 주의사항 예시\n",
    "from sklearn.preprocessing import MinMaxScaler\n",
    "import numpy as np\n",
    "\n",
    "train_array=np.arange(0,11).reshape(-1,1)\n",
    "test_array=np.arange(0,11).reshape(-1,1)\n",
    "\n",
    "scaler=MinMaxScaler()\n",
    "scaler.fit(train_array)\n",
    "train_scaled = scaler.transform(train_array)\n",
    "\n",
    "print('원본 train_array 데이터' , np.round(train_array.reshape(-1),2))\n",
    "print('Scaled train array 데이터:', np.round(train_scaled.reshape(-1),2))\n",
    "\n",
    "scaler.fit(test_array)\n",
    "test_scaled = scaler.transform(test_array)\n",
    "\n",
    "print('원본 test_array 데이터' , np.round(test_array.reshape(-1),2))\n",
    "\n",
    "print('Scaled test array 데이터:', np.round(test_scaled.reshape(-1),2))"
   ]
  },
  {
   "cell_type": "code",
   "execution_count": null,
   "id": "45fdd5d3",
   "metadata": {},
   "outputs": [],
   "source": []
  }
 ],
 "metadata": {
  "kernelspec": {
   "display_name": "Python 3 (ipykernel)",
   "language": "python",
   "name": "python3"
  },
  "language_info": {
   "codemirror_mode": {
    "name": "ipython",
    "version": 3
   },
   "file_extension": ".py",
   "mimetype": "text/x-python",
   "name": "python",
   "nbconvert_exporter": "python",
   "pygments_lexer": "ipython3",
   "version": "3.9.12"
  }
 },
 "nbformat": 4,
 "nbformat_minor": 5
}
